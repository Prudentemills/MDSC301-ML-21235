{
  "nbformat": 4,
  "nbformat_minor": 0,
  "metadata": {
    "colab": {
      "provenance": []
    },
    "kernelspec": {
      "name": "python3",
      "display_name": "Python 3"
    },
    "language_info": {
      "name": "python"
    }
  },
  "cells": [
    {
      "cell_type": "code",
      "execution_count": null,
      "metadata": {
        "colab": {
          "base_uri": "https://localhost:8080/"
        },
        "id": "xE7eFpL7HW-Z",
        "outputId": "4b93aa2e-8633-4d2b-eef3-eaf321e0126b"
      },
      "outputs": [
        {
          "output_type": "stream",
          "name": "stdout",
          "text": [
            "Mounted at /content/drive\n"
          ]
        }
      ],
      "source": [
        "import pandas as pd\n",
        "import numpy as np\n",
        "import sys\n",
        "from google.colab import drive\n",
        "drive.mount(f'/content/drive')\n",
        "sys.path.append('/content/drive/My Drive/Datasets')"
      ]
    },
    {
      "cell_type": "code",
      "source": [
        "from sklearn.preprocessing import OrdinalEncoder\n",
        "from sklearn.compose import ColumnTransformer\n",
        "from sklearn.feature_extraction.text import TfidfVectorizer, CountVectorizer\n",
        "from sklearn.naive_bayes import GaussianNB, MultinomialNB\n",
        "from sklearn.metrics import classification_report, confusion_matrix, accuracy_score\n",
        "from sklearn.pipeline import Pipeline\n",
        "from sklearn.model_selection import train_test_split\n",
        "import matplotlib.pyplot as plt\n",
        "import seaborn as sn\n",
        "from sklearn.metrics import confusion_matrix\n",
        "from sklearn.linear_model import LogisticRegression\n",
        "from sklearn import svm\n",
        "from sklearn.tree import DecisionTreeClassifier\n",
        "from sklearn.ensemble import BaggingClassifier, RandomForestClassifier\n",
        "from sklearn.neighbors import KNeighborsClassifier\n",
        "import seaborn as sns\n",
        "import matplotlib.pyplot as plt\n",
        "import contractions\n",
        "plt.style.use('seaborn')"
      ],
      "metadata": {
        "id": "WUSx1MTqHedU"
      },
      "execution_count": null,
      "outputs": []
    },
    {
      "cell_type": "code",
      "source": [
        "!pip install contractions"
      ],
      "metadata": {
        "colab": {
          "base_uri": "https://localhost:8080/"
        },
        "id": "gL6xolq3L63x",
        "outputId": "8d99af5b-cdc4-4762-b4b7-f32079e11177"
      },
      "execution_count": null,
      "outputs": [
        {
          "output_type": "stream",
          "name": "stdout",
          "text": [
            "Looking in indexes: https://pypi.org/simple, https://us-python.pkg.dev/colab-wheels/public/simple/\n",
            "Collecting contractions\n",
            "  Downloading contractions-0.1.72-py2.py3-none-any.whl (8.3 kB)\n",
            "Collecting textsearch>=0.0.21\n",
            "  Downloading textsearch-0.0.24-py2.py3-none-any.whl (7.6 kB)\n",
            "Collecting anyascii\n",
            "  Downloading anyascii-0.3.1-py3-none-any.whl (287 kB)\n",
            "\u001b[K     |████████████████████████████████| 287 kB 15.1 MB/s \n",
            "\u001b[?25hCollecting pyahocorasick\n",
            "  Downloading pyahocorasick-1.4.4-cp37-cp37m-manylinux_2_17_x86_64.manylinux2014_x86_64.whl (106 kB)\n",
            "\u001b[K     |████████████████████████████████| 106 kB 45.2 MB/s \n",
            "\u001b[?25hInstalling collected packages: pyahocorasick, anyascii, textsearch, contractions\n",
            "Successfully installed anyascii-0.3.1 contractions-0.1.72 pyahocorasick-1.4.4 textsearch-0.0.24\n"
          ]
        }
      ]
    },
    {
      "cell_type": "code",
      "source": [
        "data = pd.read_csv('/content/drive/MyDrive/Datasets/Reviews.csv')"
      ],
      "metadata": {
        "id": "6bKyTUndH9Pn"
      },
      "execution_count": null,
      "outputs": []
    },
    {
      "cell_type": "code",
      "source": [
        "data"
      ],
      "metadata": {
        "colab": {
          "base_uri": "https://localhost:8080/",
          "height": 815
        },
        "id": "g3HXnKRPIGDr",
        "outputId": "dca195e1-800f-42c6-e026-7af4718ae104"
      },
      "execution_count": null,
      "outputs": [
        {
          "output_type": "execute_result",
          "data": {
            "text/plain": [
              "               Name  Ratings                                    Header  \\\n",
              "0       Suraj Chand        4          Mi Smart Tv 32\" :- 7/10 average.   \n",
              "1      mazharkhan07        4  Great experience with above expectations   \n",
              "2            Garima        4             SO FAR GOOD TV IN PRICE RANGE   \n",
              "3           Baru g.        4                                 Ok good..   \n",
              "4       shashikanth        4           Review after using for 2 months   \n",
              "...             ...      ...                                       ...   \n",
              "4995    Prasanna V.        1                    Review after one month   \n",
              "4996  Anil Dhankhar        1                               Need refund   \n",
              "4997           Amit        1                 Wifi properly not working   \n",
              "4998          Irfan        1                            Slow operating   \n",
              "4999      Sreenivas        3                                    Repair   \n",
              "\n",
              "                   Date                                    Product_Details  \\\n",
              "0        30 August 2022  Pattern name: 2K Android SeriesSize name: 32 i...   \n",
              "1        4 October 2022  Pattern name: 4K Android SeriesSize name: 50 i...   \n",
              "2      2 September 2022  Pattern name: 4K Android SeriesSize name: 50 i...   \n",
              "3       10 October 2022  Pattern name: 2K Android SeriesSize name: 32 i...   \n",
              "4     23 September 2022  Pattern name: 4K Android SeriesSize name: 50 i...   \n",
              "...                 ...                                                ...   \n",
              "4995    15 October 2021  Pattern name: 4K Android SeriesSize name: 50 i...   \n",
              "4996         6 May 2021  Pattern name: 4K Android SeriesSize name: 50 i...   \n",
              "4997      26 March 2022  Pattern name: 2K Android SeriesSize name: 32 i...   \n",
              "4998   28 February 2022  Pattern name: 2K Android SeriesSize name: 32 i...   \n",
              "4999        21 May 2022  Pattern name: 2K Android SeriesSize name: 32 i...   \n",
              "\n",
              "                                                 Review  \\\n",
              "0                                                   NaN   \n",
              "1                                                   NaN   \n",
              "2     I am writing this after using for it for more ...   \n",
              "3     ముఖ్యంగా పిక్చర్ కలర్ అనుకున్నంత లేదు. పోనీ సె...   \n",
              "4     Display is simply extraordinary at this price ...   \n",
              "...                                                 ...   \n",
              "4995  Hi, I am writing this review after one month o...   \n",
              "4996  Being a prime user of amazon,  didn't like tv ...   \n",
              "4997                                   Wifi not working   \n",
              "4998            Dela in operating and also struck alot.   \n",
              "4999  If any display issues we need to spend almost ...   \n",
              "\n",
              "                            Helpful  \n",
              "0     198 people found this helpful  \n",
              "1      28 people found this helpful  \n",
              "2      63 people found this helpful  \n",
              "3      10 people found this helpful  \n",
              "4      26 people found this helpful  \n",
              "...                             ...  \n",
              "4995                            NaN  \n",
              "4996    2 people found this helpful  \n",
              "4997  One person found this helpful  \n",
              "4998    2 people found this helpful  \n",
              "4999                            NaN  \n",
              "\n",
              "[5000 rows x 7 columns]"
            ],
            "text/html": [
              "\n",
              "  <div id=\"df-368caf3d-75ed-4aeb-b063-be35323cffb0\">\n",
              "    <div class=\"colab-df-container\">\n",
              "      <div>\n",
              "<style scoped>\n",
              "    .dataframe tbody tr th:only-of-type {\n",
              "        vertical-align: middle;\n",
              "    }\n",
              "\n",
              "    .dataframe tbody tr th {\n",
              "        vertical-align: top;\n",
              "    }\n",
              "\n",
              "    .dataframe thead th {\n",
              "        text-align: right;\n",
              "    }\n",
              "</style>\n",
              "<table border=\"1\" class=\"dataframe\">\n",
              "  <thead>\n",
              "    <tr style=\"text-align: right;\">\n",
              "      <th></th>\n",
              "      <th>Name</th>\n",
              "      <th>Ratings</th>\n",
              "      <th>Header</th>\n",
              "      <th>Date</th>\n",
              "      <th>Product_Details</th>\n",
              "      <th>Review</th>\n",
              "      <th>Helpful</th>\n",
              "    </tr>\n",
              "  </thead>\n",
              "  <tbody>\n",
              "    <tr>\n",
              "      <th>0</th>\n",
              "      <td>Suraj Chand</td>\n",
              "      <td>4</td>\n",
              "      <td>Mi Smart Tv 32\" :- 7/10 average.</td>\n",
              "      <td>30 August 2022</td>\n",
              "      <td>Pattern name: 2K Android SeriesSize name: 32 i...</td>\n",
              "      <td>NaN</td>\n",
              "      <td>198 people found this helpful</td>\n",
              "    </tr>\n",
              "    <tr>\n",
              "      <th>1</th>\n",
              "      <td>mazharkhan07</td>\n",
              "      <td>4</td>\n",
              "      <td>Great experience with above expectations</td>\n",
              "      <td>4 October 2022</td>\n",
              "      <td>Pattern name: 4K Android SeriesSize name: 50 i...</td>\n",
              "      <td>NaN</td>\n",
              "      <td>28 people found this helpful</td>\n",
              "    </tr>\n",
              "    <tr>\n",
              "      <th>2</th>\n",
              "      <td>Garima</td>\n",
              "      <td>4</td>\n",
              "      <td>SO FAR GOOD TV IN PRICE RANGE</td>\n",
              "      <td>2 September 2022</td>\n",
              "      <td>Pattern name: 4K Android SeriesSize name: 50 i...</td>\n",
              "      <td>I am writing this after using for it for more ...</td>\n",
              "      <td>63 people found this helpful</td>\n",
              "    </tr>\n",
              "    <tr>\n",
              "      <th>3</th>\n",
              "      <td>Baru g.</td>\n",
              "      <td>4</td>\n",
              "      <td>Ok good..</td>\n",
              "      <td>10 October 2022</td>\n",
              "      <td>Pattern name: 2K Android SeriesSize name: 32 i...</td>\n",
              "      <td>ముఖ్యంగా పిక్చర్ కలర్ అనుకున్నంత లేదు. పోనీ సె...</td>\n",
              "      <td>10 people found this helpful</td>\n",
              "    </tr>\n",
              "    <tr>\n",
              "      <th>4</th>\n",
              "      <td>shashikanth</td>\n",
              "      <td>4</td>\n",
              "      <td>Review after using for 2 months</td>\n",
              "      <td>23 September 2022</td>\n",
              "      <td>Pattern name: 4K Android SeriesSize name: 50 i...</td>\n",
              "      <td>Display is simply extraordinary at this price ...</td>\n",
              "      <td>26 people found this helpful</td>\n",
              "    </tr>\n",
              "    <tr>\n",
              "      <th>...</th>\n",
              "      <td>...</td>\n",
              "      <td>...</td>\n",
              "      <td>...</td>\n",
              "      <td>...</td>\n",
              "      <td>...</td>\n",
              "      <td>...</td>\n",
              "      <td>...</td>\n",
              "    </tr>\n",
              "    <tr>\n",
              "      <th>4995</th>\n",
              "      <td>Prasanna V.</td>\n",
              "      <td>1</td>\n",
              "      <td>Review after one month</td>\n",
              "      <td>15 October 2021</td>\n",
              "      <td>Pattern name: 4K Android SeriesSize name: 50 i...</td>\n",
              "      <td>Hi, I am writing this review after one month o...</td>\n",
              "      <td>NaN</td>\n",
              "    </tr>\n",
              "    <tr>\n",
              "      <th>4996</th>\n",
              "      <td>Anil Dhankhar</td>\n",
              "      <td>1</td>\n",
              "      <td>Need refund</td>\n",
              "      <td>6 May 2021</td>\n",
              "      <td>Pattern name: 4K Android SeriesSize name: 50 i...</td>\n",
              "      <td>Being a prime user of amazon,  didn't like tv ...</td>\n",
              "      <td>2 people found this helpful</td>\n",
              "    </tr>\n",
              "    <tr>\n",
              "      <th>4997</th>\n",
              "      <td>Amit</td>\n",
              "      <td>1</td>\n",
              "      <td>Wifi properly not working</td>\n",
              "      <td>26 March 2022</td>\n",
              "      <td>Pattern name: 2K Android SeriesSize name: 32 i...</td>\n",
              "      <td>Wifi not working</td>\n",
              "      <td>One person found this helpful</td>\n",
              "    </tr>\n",
              "    <tr>\n",
              "      <th>4998</th>\n",
              "      <td>Irfan</td>\n",
              "      <td>1</td>\n",
              "      <td>Slow operating</td>\n",
              "      <td>28 February 2022</td>\n",
              "      <td>Pattern name: 2K Android SeriesSize name: 32 i...</td>\n",
              "      <td>Dela in operating and also struck alot.</td>\n",
              "      <td>2 people found this helpful</td>\n",
              "    </tr>\n",
              "    <tr>\n",
              "      <th>4999</th>\n",
              "      <td>Sreenivas</td>\n",
              "      <td>3</td>\n",
              "      <td>Repair</td>\n",
              "      <td>21 May 2022</td>\n",
              "      <td>Pattern name: 2K Android SeriesSize name: 32 i...</td>\n",
              "      <td>If any display issues we need to spend almost ...</td>\n",
              "      <td>NaN</td>\n",
              "    </tr>\n",
              "  </tbody>\n",
              "</table>\n",
              "<p>5000 rows × 7 columns</p>\n",
              "</div>\n",
              "      <button class=\"colab-df-convert\" onclick=\"convertToInteractive('df-368caf3d-75ed-4aeb-b063-be35323cffb0')\"\n",
              "              title=\"Convert this dataframe to an interactive table.\"\n",
              "              style=\"display:none;\">\n",
              "        \n",
              "  <svg xmlns=\"http://www.w3.org/2000/svg\" height=\"24px\"viewBox=\"0 0 24 24\"\n",
              "       width=\"24px\">\n",
              "    <path d=\"M0 0h24v24H0V0z\" fill=\"none\"/>\n",
              "    <path d=\"M18.56 5.44l.94 2.06.94-2.06 2.06-.94-2.06-.94-.94-2.06-.94 2.06-2.06.94zm-11 1L8.5 8.5l.94-2.06 2.06-.94-2.06-.94L8.5 2.5l-.94 2.06-2.06.94zm10 10l.94 2.06.94-2.06 2.06-.94-2.06-.94-.94-2.06-.94 2.06-2.06.94z\"/><path d=\"M17.41 7.96l-1.37-1.37c-.4-.4-.92-.59-1.43-.59-.52 0-1.04.2-1.43.59L10.3 9.45l-7.72 7.72c-.78.78-.78 2.05 0 2.83L4 21.41c.39.39.9.59 1.41.59.51 0 1.02-.2 1.41-.59l7.78-7.78 2.81-2.81c.8-.78.8-2.07 0-2.86zM5.41 20L4 18.59l7.72-7.72 1.47 1.35L5.41 20z\"/>\n",
              "  </svg>\n",
              "      </button>\n",
              "      \n",
              "  <style>\n",
              "    .colab-df-container {\n",
              "      display:flex;\n",
              "      flex-wrap:wrap;\n",
              "      gap: 12px;\n",
              "    }\n",
              "\n",
              "    .colab-df-convert {\n",
              "      background-color: #E8F0FE;\n",
              "      border: none;\n",
              "      border-radius: 50%;\n",
              "      cursor: pointer;\n",
              "      display: none;\n",
              "      fill: #1967D2;\n",
              "      height: 32px;\n",
              "      padding: 0 0 0 0;\n",
              "      width: 32px;\n",
              "    }\n",
              "\n",
              "    .colab-df-convert:hover {\n",
              "      background-color: #E2EBFA;\n",
              "      box-shadow: 0px 1px 2px rgba(60, 64, 67, 0.3), 0px 1px 3px 1px rgba(60, 64, 67, 0.15);\n",
              "      fill: #174EA6;\n",
              "    }\n",
              "\n",
              "    [theme=dark] .colab-df-convert {\n",
              "      background-color: #3B4455;\n",
              "      fill: #D2E3FC;\n",
              "    }\n",
              "\n",
              "    [theme=dark] .colab-df-convert:hover {\n",
              "      background-color: #434B5C;\n",
              "      box-shadow: 0px 1px 3px 1px rgba(0, 0, 0, 0.15);\n",
              "      filter: drop-shadow(0px 1px 2px rgba(0, 0, 0, 0.3));\n",
              "      fill: #FFFFFF;\n",
              "    }\n",
              "  </style>\n",
              "\n",
              "      <script>\n",
              "        const buttonEl =\n",
              "          document.querySelector('#df-368caf3d-75ed-4aeb-b063-be35323cffb0 button.colab-df-convert');\n",
              "        buttonEl.style.display =\n",
              "          google.colab.kernel.accessAllowed ? 'block' : 'none';\n",
              "\n",
              "        async function convertToInteractive(key) {\n",
              "          const element = document.querySelector('#df-368caf3d-75ed-4aeb-b063-be35323cffb0');\n",
              "          const dataTable =\n",
              "            await google.colab.kernel.invokeFunction('convertToInteractive',\n",
              "                                                     [key], {});\n",
              "          if (!dataTable) return;\n",
              "\n",
              "          const docLinkHtml = 'Like what you see? Visit the ' +\n",
              "            '<a target=\"_blank\" href=https://colab.research.google.com/notebooks/data_table.ipynb>data table notebook</a>'\n",
              "            + ' to learn more about interactive tables.';\n",
              "          element.innerHTML = '';\n",
              "          dataTable['output_type'] = 'display_data';\n",
              "          await google.colab.output.renderOutput(dataTable, element);\n",
              "          const docLink = document.createElement('div');\n",
              "          docLink.innerHTML = docLinkHtml;\n",
              "          element.appendChild(docLink);\n",
              "        }\n",
              "      </script>\n",
              "    </div>\n",
              "  </div>\n",
              "  "
            ]
          },
          "metadata": {},
          "execution_count": 5
        }
      ]
    },
    {
      "cell_type": "code",
      "source": [
        "data1= data.dropna()"
      ],
      "metadata": {
        "id": "6RehUzmUINoL"
      },
      "execution_count": null,
      "outputs": []
    },
    {
      "cell_type": "code",
      "source": [
        "data1.isnull().sum()"
      ],
      "metadata": {
        "colab": {
          "base_uri": "https://localhost:8080/"
        },
        "id": "xK347FvFIiiz",
        "outputId": "680d10f3-96fc-4dad-c092-cbbd5c736a52"
      },
      "execution_count": null,
      "outputs": [
        {
          "output_type": "execute_result",
          "data": {
            "text/plain": [
              "Name               0\n",
              "Ratings            0\n",
              "Header             0\n",
              "Date               0\n",
              "Product_Details    0\n",
              "Review             0\n",
              "Helpful            0\n",
              "dtype: int64"
            ]
          },
          "metadata": {},
          "execution_count": 10
        }
      ]
    },
    {
      "cell_type": "code",
      "source": [
        "data2 = data1.drop(columns= ['Name','Date','Product_Details','Helpful','Header'])\n",
        "data2"
      ],
      "metadata": {
        "colab": {
          "base_uri": "https://localhost:8080/",
          "height": 424
        },
        "id": "wBxAl0g0IopL",
        "outputId": "d2da080a-28a3-410b-ee30-3b68751e3ce1"
      },
      "execution_count": null,
      "outputs": [
        {
          "output_type": "execute_result",
          "data": {
            "text/plain": [
              "      Ratings                                             Review\n",
              "2           4  I am writing this after using for it for more ...\n",
              "3           4  ముఖ్యంగా పిక్చర్ కలర్ అనుకున్నంత లేదు. పోనీ సె...\n",
              "4           4  Display is simply extraordinary at this price ...\n",
              "8           4  TV is right according to the budget. There is ...\n",
              "15          4  Product is awesome and delivery is good.but I ...\n",
              "...       ...                                                ...\n",
              "4991        1  Very disappointed by redmi..I purchased this p...\n",
              "4994        1  It was to slow.. video was lagging, I returned...\n",
              "4996        1  Being a prime user of amazon,  didn't like tv ...\n",
              "4997        1                                   Wifi not working\n",
              "4998        1            Dela in operating and also struck alot.\n",
              "\n",
              "[1428 rows x 2 columns]"
            ],
            "text/html": [
              "\n",
              "  <div id=\"df-835ce146-0d30-418e-a954-b9c66bfb5e49\">\n",
              "    <div class=\"colab-df-container\">\n",
              "      <div>\n",
              "<style scoped>\n",
              "    .dataframe tbody tr th:only-of-type {\n",
              "        vertical-align: middle;\n",
              "    }\n",
              "\n",
              "    .dataframe tbody tr th {\n",
              "        vertical-align: top;\n",
              "    }\n",
              "\n",
              "    .dataframe thead th {\n",
              "        text-align: right;\n",
              "    }\n",
              "</style>\n",
              "<table border=\"1\" class=\"dataframe\">\n",
              "  <thead>\n",
              "    <tr style=\"text-align: right;\">\n",
              "      <th></th>\n",
              "      <th>Ratings</th>\n",
              "      <th>Review</th>\n",
              "    </tr>\n",
              "  </thead>\n",
              "  <tbody>\n",
              "    <tr>\n",
              "      <th>2</th>\n",
              "      <td>4</td>\n",
              "      <td>I am writing this after using for it for more ...</td>\n",
              "    </tr>\n",
              "    <tr>\n",
              "      <th>3</th>\n",
              "      <td>4</td>\n",
              "      <td>ముఖ్యంగా పిక్చర్ కలర్ అనుకున్నంత లేదు. పోనీ సె...</td>\n",
              "    </tr>\n",
              "    <tr>\n",
              "      <th>4</th>\n",
              "      <td>4</td>\n",
              "      <td>Display is simply extraordinary at this price ...</td>\n",
              "    </tr>\n",
              "    <tr>\n",
              "      <th>8</th>\n",
              "      <td>4</td>\n",
              "      <td>TV is right according to the budget. There is ...</td>\n",
              "    </tr>\n",
              "    <tr>\n",
              "      <th>15</th>\n",
              "      <td>4</td>\n",
              "      <td>Product is awesome and delivery is good.but I ...</td>\n",
              "    </tr>\n",
              "    <tr>\n",
              "      <th>...</th>\n",
              "      <td>...</td>\n",
              "      <td>...</td>\n",
              "    </tr>\n",
              "    <tr>\n",
              "      <th>4991</th>\n",
              "      <td>1</td>\n",
              "      <td>Very disappointed by redmi..I purchased this p...</td>\n",
              "    </tr>\n",
              "    <tr>\n",
              "      <th>4994</th>\n",
              "      <td>1</td>\n",
              "      <td>It was to slow.. video was lagging, I returned...</td>\n",
              "    </tr>\n",
              "    <tr>\n",
              "      <th>4996</th>\n",
              "      <td>1</td>\n",
              "      <td>Being a prime user of amazon,  didn't like tv ...</td>\n",
              "    </tr>\n",
              "    <tr>\n",
              "      <th>4997</th>\n",
              "      <td>1</td>\n",
              "      <td>Wifi not working</td>\n",
              "    </tr>\n",
              "    <tr>\n",
              "      <th>4998</th>\n",
              "      <td>1</td>\n",
              "      <td>Dela in operating and also struck alot.</td>\n",
              "    </tr>\n",
              "  </tbody>\n",
              "</table>\n",
              "<p>1428 rows × 2 columns</p>\n",
              "</div>\n",
              "      <button class=\"colab-df-convert\" onclick=\"convertToInteractive('df-835ce146-0d30-418e-a954-b9c66bfb5e49')\"\n",
              "              title=\"Convert this dataframe to an interactive table.\"\n",
              "              style=\"display:none;\">\n",
              "        \n",
              "  <svg xmlns=\"http://www.w3.org/2000/svg\" height=\"24px\"viewBox=\"0 0 24 24\"\n",
              "       width=\"24px\">\n",
              "    <path d=\"M0 0h24v24H0V0z\" fill=\"none\"/>\n",
              "    <path d=\"M18.56 5.44l.94 2.06.94-2.06 2.06-.94-2.06-.94-.94-2.06-.94 2.06-2.06.94zm-11 1L8.5 8.5l.94-2.06 2.06-.94-2.06-.94L8.5 2.5l-.94 2.06-2.06.94zm10 10l.94 2.06.94-2.06 2.06-.94-2.06-.94-.94-2.06-.94 2.06-2.06.94z\"/><path d=\"M17.41 7.96l-1.37-1.37c-.4-.4-.92-.59-1.43-.59-.52 0-1.04.2-1.43.59L10.3 9.45l-7.72 7.72c-.78.78-.78 2.05 0 2.83L4 21.41c.39.39.9.59 1.41.59.51 0 1.02-.2 1.41-.59l7.78-7.78 2.81-2.81c.8-.78.8-2.07 0-2.86zM5.41 20L4 18.59l7.72-7.72 1.47 1.35L5.41 20z\"/>\n",
              "  </svg>\n",
              "      </button>\n",
              "      \n",
              "  <style>\n",
              "    .colab-df-container {\n",
              "      display:flex;\n",
              "      flex-wrap:wrap;\n",
              "      gap: 12px;\n",
              "    }\n",
              "\n",
              "    .colab-df-convert {\n",
              "      background-color: #E8F0FE;\n",
              "      border: none;\n",
              "      border-radius: 50%;\n",
              "      cursor: pointer;\n",
              "      display: none;\n",
              "      fill: #1967D2;\n",
              "      height: 32px;\n",
              "      padding: 0 0 0 0;\n",
              "      width: 32px;\n",
              "    }\n",
              "\n",
              "    .colab-df-convert:hover {\n",
              "      background-color: #E2EBFA;\n",
              "      box-shadow: 0px 1px 2px rgba(60, 64, 67, 0.3), 0px 1px 3px 1px rgba(60, 64, 67, 0.15);\n",
              "      fill: #174EA6;\n",
              "    }\n",
              "\n",
              "    [theme=dark] .colab-df-convert {\n",
              "      background-color: #3B4455;\n",
              "      fill: #D2E3FC;\n",
              "    }\n",
              "\n",
              "    [theme=dark] .colab-df-convert:hover {\n",
              "      background-color: #434B5C;\n",
              "      box-shadow: 0px 1px 3px 1px rgba(0, 0, 0, 0.15);\n",
              "      filter: drop-shadow(0px 1px 2px rgba(0, 0, 0, 0.3));\n",
              "      fill: #FFFFFF;\n",
              "    }\n",
              "  </style>\n",
              "\n",
              "      <script>\n",
              "        const buttonEl =\n",
              "          document.querySelector('#df-835ce146-0d30-418e-a954-b9c66bfb5e49 button.colab-df-convert');\n",
              "        buttonEl.style.display =\n",
              "          google.colab.kernel.accessAllowed ? 'block' : 'none';\n",
              "\n",
              "        async function convertToInteractive(key) {\n",
              "          const element = document.querySelector('#df-835ce146-0d30-418e-a954-b9c66bfb5e49');\n",
              "          const dataTable =\n",
              "            await google.colab.kernel.invokeFunction('convertToInteractive',\n",
              "                                                     [key], {});\n",
              "          if (!dataTable) return;\n",
              "\n",
              "          const docLinkHtml = 'Like what you see? Visit the ' +\n",
              "            '<a target=\"_blank\" href=https://colab.research.google.com/notebooks/data_table.ipynb>data table notebook</a>'\n",
              "            + ' to learn more about interactive tables.';\n",
              "          element.innerHTML = '';\n",
              "          dataTable['output_type'] = 'display_data';\n",
              "          await google.colab.output.renderOutput(dataTable, element);\n",
              "          const docLink = document.createElement('div');\n",
              "          docLink.innerHTML = docLinkHtml;\n",
              "          element.appendChild(docLink);\n",
              "        }\n",
              "      </script>\n",
              "    </div>\n",
              "  </div>\n",
              "  "
            ]
          },
          "metadata": {},
          "execution_count": 20
        }
      ]
    },
    {
      "cell_type": "code",
      "source": [
        "data2.info()"
      ],
      "metadata": {
        "colab": {
          "base_uri": "https://localhost:8080/"
        },
        "id": "1szMtWe0KWAr",
        "outputId": "c4957884-4d71-4dbf-84fe-c4b552d1a76d"
      },
      "execution_count": null,
      "outputs": [
        {
          "output_type": "stream",
          "name": "stdout",
          "text": [
            "<class 'pandas.core.frame.DataFrame'>\n",
            "Int64Index: 1428 entries, 2 to 4998\n",
            "Data columns (total 2 columns):\n",
            " #   Column   Non-Null Count  Dtype \n",
            "---  ------   --------------  ----- \n",
            " 0   Ratings  1428 non-null   int64 \n",
            " 1   Review   1428 non-null   object\n",
            "dtypes: int64(1), object(1)\n",
            "memory usage: 33.5+ KB\n"
          ]
        }
      ]
    },
    {
      "cell_type": "code",
      "source": [
        "import re\n",
        "import nltk\n",
        "from nltk.corpus import stopwords\n",
        "from nltk.stem import PorterStemmer, LancasterStemmer\n",
        "from imblearn.under_sampling import RandomUnderSampler\n",
        "import string\n",
        "nltk.download('stopwords')"
      ],
      "metadata": {
        "colab": {
          "base_uri": "https://localhost:8080/"
        },
        "id": "Olki5k-kKqg6",
        "outputId": "f22e528f-3354-4a7b-8b57-1da82371fc43"
      },
      "execution_count": null,
      "outputs": [
        {
          "output_type": "stream",
          "name": "stderr",
          "text": [
            "[nltk_data] Downloading package stopwords to /root/nltk_data...\n",
            "[nltk_data]   Unzipping corpora/stopwords.zip.\n"
          ]
        },
        {
          "output_type": "execute_result",
          "data": {
            "text/plain": [
              "True"
            ]
          },
          "metadata": {},
          "execution_count": 22
        }
      ]
    },
    {
      "cell_type": "code",
      "source": [
        "data2['Review'] = data2['Review'].apply(lambda text: contractions.fix(text))"
      ],
      "metadata": {
        "id": "g7ICjvFTKt0a"
      },
      "execution_count": null,
      "outputs": []
    },
    {
      "cell_type": "code",
      "source": [
        "data2['Review'] = data2['Review'].apply(lambda text: re.sub(r\"(@\\[A-Za-z0-9]+)|([^0-9A-Za-z \\t])|(\\w+:\\/\\/\\S+)|^rt|http.+?\", \"\",text))"
      ],
      "metadata": {
        "id": "PLKVAHQxOKNB"
      },
      "execution_count": null,
      "outputs": []
    },
    {
      "cell_type": "code",
      "source": [
        "data2['Review']"
      ],
      "metadata": {
        "colab": {
          "base_uri": "https://localhost:8080/"
        },
        "id": "GTYtAWr3Ohj4",
        "outputId": "9b57e235-f2bb-41c7-e7a0-527d619ab09a"
      },
      "execution_count": null,
      "outputs": [
        {
          "output_type": "execute_result",
          "data": {
            "text/plain": [
              "2       I am writing this after using for it for more ...\n",
              "3                                             Redmi   ...\n",
              "4       Display is simply extraordinary at this price ...\n",
              "8       TV is right according to the budget There is a...\n",
              "15      Product is awesome and delivery is goodbut I h...\n",
              "                              ...                        \n",
              "4991    Very disappointed by redmiI purchased this pro...\n",
              "4994    It was to slow video was lagging I returned it...\n",
              "4996    Being a prime user of amazon  did not like tv ...\n",
              "4997                                     Wifi not working\n",
              "4998               Dela in operating and also struck alot\n",
              "Name: Review, Length: 1428, dtype: object"
            ]
          },
          "metadata": {},
          "execution_count": 37
        }
      ]
    },
    {
      "cell_type": "code",
      "source": [
        "vec = CountVectorizer()\n",
        "X = vec.fit_transform(data2[\"Review\"])\n",
        "X"
      ],
      "metadata": {
        "colab": {
          "base_uri": "https://localhost:8080/"
        },
        "id": "voOVEtC4OrtQ",
        "outputId": "47bb33bf-b715-49a8-92f3-12a945126f61"
      },
      "execution_count": null,
      "outputs": [
        {
          "output_type": "execute_result",
          "data": {
            "text/plain": [
              "<1428x4978 sparse matrix of type '<class 'numpy.int64'>'\n",
              "\twith 34493 stored elements in Compressed Sparse Row format>"
            ]
          },
          "metadata": {},
          "execution_count": 39
        }
      ]
    },
    {
      "cell_type": "code",
      "source": [
        "df = pd.DataFrame(X.toarray(),columns=vec.get_feature_names_out())"
      ],
      "metadata": {
        "id": "JZrIP5L2OxA4"
      },
      "execution_count": null,
      "outputs": []
    },
    {
      "cell_type": "code",
      "source": [
        "data2['Ratings'].value_counts()"
      ],
      "metadata": {
        "colab": {
          "base_uri": "https://localhost:8080/"
        },
        "id": "xPPkARRTO1Kv",
        "outputId": "abdc6e75-fb6e-465c-803c-26cc6e34423f"
      },
      "execution_count": null,
      "outputs": [
        {
          "output_type": "execute_result",
          "data": {
            "text/plain": [
              "5    515\n",
              "4    326\n",
              "1    323\n",
              "3    167\n",
              "2     97\n",
              "Name: Ratings, dtype: int64"
            ]
          },
          "metadata": {},
          "execution_count": 46
        }
      ]
    },
    {
      "cell_type": "code",
      "source": [
        "data2.info()"
      ],
      "metadata": {
        "colab": {
          "base_uri": "https://localhost:8080/"
        },
        "id": "aK_N3wrMSA7F",
        "outputId": "20feef98-319b-433b-becf-a4503a2ac98f"
      },
      "execution_count": null,
      "outputs": [
        {
          "output_type": "stream",
          "name": "stdout",
          "text": [
            "<class 'pandas.core.frame.DataFrame'>\n",
            "Int64Index: 1428 entries, 2 to 4998\n",
            "Data columns (total 2 columns):\n",
            " #   Column   Non-Null Count  Dtype \n",
            "---  ------   --------------  ----- \n",
            " 0   Ratings  1428 non-null   int64 \n",
            " 1   Review   1428 non-null   object\n",
            "dtypes: int64(1), object(1)\n",
            "memory usage: 33.5+ KB\n"
          ]
        }
      ]
    },
    {
      "cell_type": "code",
      "source": [
        "data2['Review']"
      ],
      "metadata": {
        "colab": {
          "base_uri": "https://localhost:8080/"
        },
        "id": "_v31OtALSPoo",
        "outputId": "4038fb46-e9dd-4620-98e7-ace308d29099"
      },
      "execution_count": null,
      "outputs": [
        {
          "output_type": "execute_result",
          "data": {
            "text/plain": [
              "2       I am writing this after using for it for more ...\n",
              "3                                             Redmi   ...\n",
              "4       Display is simply extraordinary at this price ...\n",
              "8       TV is right according to the budget There is a...\n",
              "15      Product is awesome and delivery is goodbut I h...\n",
              "                              ...                        \n",
              "4991    Very disappointed by redmiI purchased this pro...\n",
              "4994    It was to slow video was lagging I returned it...\n",
              "4996    Being a prime user of amazon  did not like tv ...\n",
              "4997                                     Wifi not working\n",
              "4998               Dela in operating and also struck alot\n",
              "Name: Review, Length: 1428, dtype: object"
            ]
          },
          "metadata": {},
          "execution_count": 51
        }
      ]
    },
    {
      "cell_type": "code",
      "source": [
        "data2['sentiment'] = data['Ratings'].apply(lambda x: 1 if x>3 else 0)"
      ],
      "metadata": {
        "id": "tno3hus4SkFo"
      },
      "execution_count": null,
      "outputs": []
    },
    {
      "cell_type": "code",
      "source": [
        "data2"
      ],
      "metadata": {
        "colab": {
          "base_uri": "https://localhost:8080/",
          "height": 424
        },
        "id": "e-a-DYn3Snlm",
        "outputId": "af5ca432-bb20-43a4-d7c6-f23e8ca1f568"
      },
      "execution_count": null,
      "outputs": [
        {
          "output_type": "execute_result",
          "data": {
            "text/plain": [
              "      Ratings                                             Review  sentiment\n",
              "2           4  I am writing this after using for it for more ...          1\n",
              "3           4                                        Redmi   ...          1\n",
              "4           4  Display is simply extraordinary at this price ...          1\n",
              "8           4  TV is right according to the budget There is a...          1\n",
              "15          4  Product is awesome and delivery is goodbut I h...          1\n",
              "...       ...                                                ...        ...\n",
              "4991        1  Very disappointed by redmiI purchased this pro...          0\n",
              "4994        1  It was to slow video was lagging I returned it...          0\n",
              "4996        1  Being a prime user of amazon  did not like tv ...          0\n",
              "4997        1                                   Wifi not working          0\n",
              "4998        1             Dela in operating and also struck alot          0\n",
              "\n",
              "[1428 rows x 3 columns]"
            ],
            "text/html": [
              "\n",
              "  <div id=\"df-5627d38b-a7cb-4c21-9d8d-30fdb90d6dfd\">\n",
              "    <div class=\"colab-df-container\">\n",
              "      <div>\n",
              "<style scoped>\n",
              "    .dataframe tbody tr th:only-of-type {\n",
              "        vertical-align: middle;\n",
              "    }\n",
              "\n",
              "    .dataframe tbody tr th {\n",
              "        vertical-align: top;\n",
              "    }\n",
              "\n",
              "    .dataframe thead th {\n",
              "        text-align: right;\n",
              "    }\n",
              "</style>\n",
              "<table border=\"1\" class=\"dataframe\">\n",
              "  <thead>\n",
              "    <tr style=\"text-align: right;\">\n",
              "      <th></th>\n",
              "      <th>Ratings</th>\n",
              "      <th>Review</th>\n",
              "      <th>sentiment</th>\n",
              "    </tr>\n",
              "  </thead>\n",
              "  <tbody>\n",
              "    <tr>\n",
              "      <th>2</th>\n",
              "      <td>4</td>\n",
              "      <td>I am writing this after using for it for more ...</td>\n",
              "      <td>1</td>\n",
              "    </tr>\n",
              "    <tr>\n",
              "      <th>3</th>\n",
              "      <td>4</td>\n",
              "      <td>Redmi   ...</td>\n",
              "      <td>1</td>\n",
              "    </tr>\n",
              "    <tr>\n",
              "      <th>4</th>\n",
              "      <td>4</td>\n",
              "      <td>Display is simply extraordinary at this price ...</td>\n",
              "      <td>1</td>\n",
              "    </tr>\n",
              "    <tr>\n",
              "      <th>8</th>\n",
              "      <td>4</td>\n",
              "      <td>TV is right according to the budget There is a...</td>\n",
              "      <td>1</td>\n",
              "    </tr>\n",
              "    <tr>\n",
              "      <th>15</th>\n",
              "      <td>4</td>\n",
              "      <td>Product is awesome and delivery is goodbut I h...</td>\n",
              "      <td>1</td>\n",
              "    </tr>\n",
              "    <tr>\n",
              "      <th>...</th>\n",
              "      <td>...</td>\n",
              "      <td>...</td>\n",
              "      <td>...</td>\n",
              "    </tr>\n",
              "    <tr>\n",
              "      <th>4991</th>\n",
              "      <td>1</td>\n",
              "      <td>Very disappointed by redmiI purchased this pro...</td>\n",
              "      <td>0</td>\n",
              "    </tr>\n",
              "    <tr>\n",
              "      <th>4994</th>\n",
              "      <td>1</td>\n",
              "      <td>It was to slow video was lagging I returned it...</td>\n",
              "      <td>0</td>\n",
              "    </tr>\n",
              "    <tr>\n",
              "      <th>4996</th>\n",
              "      <td>1</td>\n",
              "      <td>Being a prime user of amazon  did not like tv ...</td>\n",
              "      <td>0</td>\n",
              "    </tr>\n",
              "    <tr>\n",
              "      <th>4997</th>\n",
              "      <td>1</td>\n",
              "      <td>Wifi not working</td>\n",
              "      <td>0</td>\n",
              "    </tr>\n",
              "    <tr>\n",
              "      <th>4998</th>\n",
              "      <td>1</td>\n",
              "      <td>Dela in operating and also struck alot</td>\n",
              "      <td>0</td>\n",
              "    </tr>\n",
              "  </tbody>\n",
              "</table>\n",
              "<p>1428 rows × 3 columns</p>\n",
              "</div>\n",
              "      <button class=\"colab-df-convert\" onclick=\"convertToInteractive('df-5627d38b-a7cb-4c21-9d8d-30fdb90d6dfd')\"\n",
              "              title=\"Convert this dataframe to an interactive table.\"\n",
              "              style=\"display:none;\">\n",
              "        \n",
              "  <svg xmlns=\"http://www.w3.org/2000/svg\" height=\"24px\"viewBox=\"0 0 24 24\"\n",
              "       width=\"24px\">\n",
              "    <path d=\"M0 0h24v24H0V0z\" fill=\"none\"/>\n",
              "    <path d=\"M18.56 5.44l.94 2.06.94-2.06 2.06-.94-2.06-.94-.94-2.06-.94 2.06-2.06.94zm-11 1L8.5 8.5l.94-2.06 2.06-.94-2.06-.94L8.5 2.5l-.94 2.06-2.06.94zm10 10l.94 2.06.94-2.06 2.06-.94-2.06-.94-.94-2.06-.94 2.06-2.06.94z\"/><path d=\"M17.41 7.96l-1.37-1.37c-.4-.4-.92-.59-1.43-.59-.52 0-1.04.2-1.43.59L10.3 9.45l-7.72 7.72c-.78.78-.78 2.05 0 2.83L4 21.41c.39.39.9.59 1.41.59.51 0 1.02-.2 1.41-.59l7.78-7.78 2.81-2.81c.8-.78.8-2.07 0-2.86zM5.41 20L4 18.59l7.72-7.72 1.47 1.35L5.41 20z\"/>\n",
              "  </svg>\n",
              "      </button>\n",
              "      \n",
              "  <style>\n",
              "    .colab-df-container {\n",
              "      display:flex;\n",
              "      flex-wrap:wrap;\n",
              "      gap: 12px;\n",
              "    }\n",
              "\n",
              "    .colab-df-convert {\n",
              "      background-color: #E8F0FE;\n",
              "      border: none;\n",
              "      border-radius: 50%;\n",
              "      cursor: pointer;\n",
              "      display: none;\n",
              "      fill: #1967D2;\n",
              "      height: 32px;\n",
              "      padding: 0 0 0 0;\n",
              "      width: 32px;\n",
              "    }\n",
              "\n",
              "    .colab-df-convert:hover {\n",
              "      background-color: #E2EBFA;\n",
              "      box-shadow: 0px 1px 2px rgba(60, 64, 67, 0.3), 0px 1px 3px 1px rgba(60, 64, 67, 0.15);\n",
              "      fill: #174EA6;\n",
              "    }\n",
              "\n",
              "    [theme=dark] .colab-df-convert {\n",
              "      background-color: #3B4455;\n",
              "      fill: #D2E3FC;\n",
              "    }\n",
              "\n",
              "    [theme=dark] .colab-df-convert:hover {\n",
              "      background-color: #434B5C;\n",
              "      box-shadow: 0px 1px 3px 1px rgba(0, 0, 0, 0.15);\n",
              "      filter: drop-shadow(0px 1px 2px rgba(0, 0, 0, 0.3));\n",
              "      fill: #FFFFFF;\n",
              "    }\n",
              "  </style>\n",
              "\n",
              "      <script>\n",
              "        const buttonEl =\n",
              "          document.querySelector('#df-5627d38b-a7cb-4c21-9d8d-30fdb90d6dfd button.colab-df-convert');\n",
              "        buttonEl.style.display =\n",
              "          google.colab.kernel.accessAllowed ? 'block' : 'none';\n",
              "\n",
              "        async function convertToInteractive(key) {\n",
              "          const element = document.querySelector('#df-5627d38b-a7cb-4c21-9d8d-30fdb90d6dfd');\n",
              "          const dataTable =\n",
              "            await google.colab.kernel.invokeFunction('convertToInteractive',\n",
              "                                                     [key], {});\n",
              "          if (!dataTable) return;\n",
              "\n",
              "          const docLinkHtml = 'Like what you see? Visit the ' +\n",
              "            '<a target=\"_blank\" href=https://colab.research.google.com/notebooks/data_table.ipynb>data table notebook</a>'\n",
              "            + ' to learn more about interactive tables.';\n",
              "          element.innerHTML = '';\n",
              "          dataTable['output_type'] = 'display_data';\n",
              "          await google.colab.output.renderOutput(dataTable, element);\n",
              "          const docLink = document.createElement('div');\n",
              "          docLink.innerHTML = docLinkHtml;\n",
              "          element.appendChild(docLink);\n",
              "        }\n",
              "      </script>\n",
              "    </div>\n",
              "  </div>\n",
              "  "
            ]
          },
          "metadata": {},
          "execution_count": 53
        }
      ]
    },
    {
      "cell_type": "code",
      "source": [
        "data2['sentiment'].value_counts()"
      ],
      "metadata": {
        "colab": {
          "base_uri": "https://localhost:8080/"
        },
        "id": "A4DkUVaDSr9p",
        "outputId": "2fdaf91b-a46c-4305-9a4a-7cf6d47cc9f2"
      },
      "execution_count": null,
      "outputs": [
        {
          "output_type": "execute_result",
          "data": {
            "text/plain": [
              "1    841\n",
              "0    587\n",
              "Name: sentiment, dtype: int64"
            ]
          },
          "metadata": {},
          "execution_count": 55
        }
      ]
    },
    {
      "cell_type": "code",
      "source": [
        "y = data2['sentiment']"
      ],
      "metadata": {
        "id": "tqZwX9coSv-z"
      },
      "execution_count": null,
      "outputs": []
    },
    {
      "cell_type": "code",
      "source": [
        "Xtrain, Xtest, ytrain, ytest = train_test_split(df,y,test_size=0.3, stratify = y)"
      ],
      "metadata": {
        "id": "nd1wiUN9SzTo"
      },
      "execution_count": null,
      "outputs": []
    },
    {
      "cell_type": "code",
      "source": [
        "print(ytrain.value_counts())\n",
        "print(ytest.value_counts())"
      ],
      "metadata": {
        "colab": {
          "base_uri": "https://localhost:8080/"
        },
        "id": "jk2Az8k4S3is",
        "outputId": "35d0bd5f-7195-4e0b-f2a9-2df43f56b8f0"
      },
      "execution_count": null,
      "outputs": [
        {
          "output_type": "stream",
          "name": "stdout",
          "text": [
            "1    588\n",
            "0    411\n",
            "Name: sentiment, dtype: int64\n",
            "1    253\n",
            "0    176\n",
            "Name: sentiment, dtype: int64\n"
          ]
        }
      ]
    },
    {
      "cell_type": "code",
      "source": [
        "print(Xtrain.shape, Xtest.shape)\n",
        "print(ytrain.shape, ytest.shape)"
      ],
      "metadata": {
        "colab": {
          "base_uri": "https://localhost:8080/"
        },
        "id": "4QPvhsPRTAYH",
        "outputId": "c62a5a50-4f0e-4f19-f326-77e673d5880b"
      },
      "execution_count": null,
      "outputs": [
        {
          "output_type": "stream",
          "name": "stdout",
          "text": [
            "(999, 4978) (429, 4978)\n",
            "(999,) (429,)\n"
          ]
        }
      ]
    },
    {
      "cell_type": "code",
      "source": [
        "def print_acc(Ptrain,Ptest,ytrain,ytest):\n",
        "    print('------------------------------------------------------------------------------')\n",
        "    print(f'|  Training Accuracy \\n| {classification_report(ytrain, Ptrain)} |')\n",
        "    print('------------------------------------------------------------------------------|')\n",
        "    print(f'|  Test Accuracy     \\n| {classification_report(ytest, Ptest)} |')\n",
        "    print('------------------------------------------------------------------------------|')\n",
        "\n",
        "def gen_conf(actual,pred):\n",
        "    classes = [0,1]\n",
        "    cm = confusion_matrix(actual,pred, labels=classes)\n",
        "    sn.heatmap(cm, annot=True)\n",
        "    plt.title(\"Confusion matrix\")\n",
        "    plt.show()"
      ],
      "metadata": {
        "id": "nt-lehsWTCYx"
      },
      "execution_count": null,
      "outputs": []
    },
    {
      "cell_type": "code",
      "source": [
        "clf = svm.SVC(class_weight = 'balanced')\n",
        "clf.fit(Xtrain, ytrain)\n",
        "trpred = clf.predict(Xtrain)\n",
        "tpred = clf.predict(Xtest)\n",
        "print_acc(trpred, tpred, ytrain, ytest)\n",
        "gen_conf(ytrain, trpred)"
      ],
      "metadata": {
        "colab": {
          "base_uri": "https://localhost:8080/",
          "height": 570
        },
        "id": "fDfrQE_xTE3X",
        "outputId": "7720a092-560e-4804-ee46-0a9100825ccc"
      },
      "execution_count": null,
      "outputs": [
        {
          "output_type": "stream",
          "name": "stdout",
          "text": [
            "------------------------------------------------------------------------------|\n",
            "|  Training Accuracy \n",
            "|               precision    recall  f1-score   support\n",
            "\n",
            "           0       0.90      0.82      0.86       411\n",
            "           1       0.88      0.93      0.91       588\n",
            "\n",
            "    accuracy                           0.89       999\n",
            "   macro avg       0.89      0.88      0.88       999\n",
            "weighted avg       0.89      0.89      0.89       999\n",
            " |\n",
            "------------------------------------------------------------------------------|\n"
          ]
        },
        {
          "output_type": "display_data",
          "data": {
            "text/plain": [
              "<Figure size 576x396 with 2 Axes>"
            ],
            "image/png": "[encoded data removed]"
          },
          "metadata": {}
        }
      ]
    },
    {
      "cell_type": "code",
      "source": [
        "gnb = GaussianNB()\n",
        "gnb.fit(Xtrain, ytrain)\n",
        "#print_acc(gnb, Xtrain, Xtest, ytrain, ytest)\n",
        "trpred = gnb.predict(Xtrain)\n",
        "tpred = gnb.predict(Xtest)\n",
        "print_acc(trpred, tpred, ytrain, ytest)\n",
        "gen_conf(ytrain, trpred)"
      ],
      "metadata": {
        "colab": {
          "base_uri": "https://localhost:8080/",
          "height": 570
        },
        "id": "2msHpmrkTH4B",
        "outputId": "544a512a-cba7-4900-a242-cd9d5c068f2f"
      },
      "execution_count": null,
      "outputs": [
        {
          "output_type": "stream",
          "name": "stdout",
          "text": [
            "------------------------------------------------------------------------------|\n",
            "|  Training Accuracy \n",
            "|               precision    recall  f1-score   support\n",
            "\n",
            "           0       1.00      0.81      0.89       411\n",
            "           1       0.88      1.00      0.94       588\n",
            "\n",
            "    accuracy                           0.92       999\n",
            "   macro avg       0.94      0.90      0.92       999\n",
            "weighted avg       0.93      0.92      0.92       999\n",
            " |\n",
            "------------------------------------------------------------------------------|\n"
          ]
        },
        {
          "output_type": "display_data",
          "data": {
            "text/plain": [
              "<Figure size 576x396 with 2 Axes>"
            ],
            "image/png": "[encoded data removed]"
          },
          "metadata": {}
        }
      ]
    },
    {
      "cell_type": "code",
      "source": [
        "mnb = MultinomialNB()\n",
        "mnb.fit(Xtrain, ytrain)\n",
        "trpred = mnb.predict(Xtrain)\n",
        "tpred = mnb.predict(Xtest)\n",
        "print_acc(trpred, tpred, ytrain, ytest)\n",
        "gen_conf(ytrain, trpred)"
      ],
      "metadata": {
        "colab": {
          "base_uri": "https://localhost:8080/",
          "height": 570
        },
        "id": "vYtAQ2eQTKHR",
        "outputId": "4e8dbcce-ab07-488a-963b-f60963d810cf"
      },
      "execution_count": null,
      "outputs": [
        {
          "output_type": "stream",
          "name": "stdout",
          "text": [
            "------------------------------------------------------------------------------|\n",
            "|  Training Accuracy \n",
            "|               precision    recall  f1-score   support\n",
            "\n",
            "           0       0.91      0.84      0.87       411\n",
            "           1       0.89      0.94      0.92       588\n",
            "\n",
            "    accuracy                           0.90       999\n",
            "   macro avg       0.90      0.89      0.90       999\n",
            "weighted avg       0.90      0.90      0.90       999\n",
            " |\n",
            "------------------------------------------------------------------------------|\n"
          ]
        },
        {
          "output_type": "display_data",
          "data": {
            "text/plain": [
              "<Figure size 576x396 with 2 Axes>"
            ],
            "image/png": "[encoded data removed]"
          },
          "metadata": {}
        }
      ]
    },
    {
      "cell_type": "code",
      "source": [
        "dtc = DecisionTreeClassifier()\n",
        "dtc.fit(Xtrain, ytrain)\n",
        "trpred = dtc.predict(Xtrain)\n",
        "tpred = dtc.predict(Xtest)\n",
        "print_acc(trpred, tpred, ytrain, ytest)\n",
        "gen_conf(ytrain, trpred)"
      ],
      "metadata": {
        "colab": {
          "base_uri": "https://localhost:8080/",
          "height": 570
        },
        "id": "Vtya5AWETMPB",
        "outputId": "b49a01c7-b953-4876-f317-34688a8338df"
      },
      "execution_count": null,
      "outputs": [
        {
          "output_type": "stream",
          "name": "stdout",
          "text": [
            "------------------------------------------------------------------------------|\n",
            "|  Training Accuracy \n",
            "|               precision    recall  f1-score   support\n",
            "\n",
            "           0       1.00      0.99      1.00       411\n",
            "           1       0.99      1.00      1.00       588\n",
            "\n",
            "    accuracy                           1.00       999\n",
            "   macro avg       1.00      1.00      1.00       999\n",
            "weighted avg       1.00      1.00      1.00       999\n",
            " |\n",
            "------------------------------------------------------------------------------|\n"
          ]
        },
        {
          "output_type": "display_data",
          "data": {
            "text/plain": [
              "<Figure size 576x396 with 2 Axes>"
            ],
            "image/png": "[encoded data removed]"
          },
          "metadata": {}
        }
      ]
    },
    {
      "cell_type": "code",
      "source": [
        "knn = KNeighborsClassifier()\n",
        "knn.fit(Xtrain, ytrain)\n",
        "trpred = knn.predict(Xtrain)\n",
        "tpred = knn.predict(Xtest)\n",
        "print_acc(trpred, tpred, ytrain, ytest)\n",
        "gen_conf(ytrain, trpred)"
      ],
      "metadata": {
        "colab": {
          "base_uri": "https://localhost:8080/",
          "height": 570
        },
        "id": "rT1oMS8lTOa5",
        "outputId": "fa27b7fc-a49e-4170-8b80-da8095c0e8be"
      },
      "execution_count": null,
      "outputs": [
        {
          "output_type": "stream",
          "name": "stdout",
          "text": [
            "------------------------------------------------------------------------------|\n",
            "|  Training Accuracy \n",
            "|               precision    recall  f1-score   support\n",
            "\n",
            "           0       0.87      0.51      0.64       411\n",
            "           1       0.73      0.95      0.83       588\n",
            "\n",
            "    accuracy                           0.77       999\n",
            "   macro avg       0.80      0.73      0.73       999\n",
            "weighted avg       0.79      0.77      0.75       999\n",
            " |\n",
            "------------------------------------------------------------------------------|\n"
          ]
        },
        {
          "output_type": "display_data",
          "data": {
            "text/plain": [
              "<Figure size 576x396 with 2 Axes>"
            ],
            "image/png": "[encoded data removed]"
          },
          "metadata": {}
        }
      ]
    },
    {
      "cell_type": "code",
      "source": [
        "rfc = RandomForestClassifier(n_jobs = -1, max_depth = 10, n_estimators = 50)\n",
        "rfc.fit(Xtrain, ytrain)\n",
        "trpred = rfc.predict(Xtrain)\n",
        "tpred = rfc.predict(Xtest)\n",
        "print_acc(trpred, tpred, ytrain, ytest)\n",
        "gen_conf(ytrain, trpred)"
      ],
      "metadata": {
        "colab": {
          "base_uri": "https://localhost:8080/",
          "height": 570
        },
        "id": "1UGOUlm5TQPs",
        "outputId": "f8ac0c79-d3ae-4869-a34d-505bf3868ff6"
      },
      "execution_count": null,
      "outputs": [
        {
          "output_type": "stream",
          "name": "stdout",
          "text": [
            "------------------------------------------------------------------------------|\n",
            "|  Training Accuracy \n",
            "|               precision    recall  f1-score   support\n",
            "\n",
            "           0       0.98      0.54      0.70       411\n",
            "           1       0.76      0.99      0.86       588\n",
            "\n",
            "    accuracy                           0.81       999\n",
            "   macro avg       0.87      0.77      0.78       999\n",
            "weighted avg       0.85      0.81      0.79       999\n",
            " |\n",
            "------------------------------------------------------------------------------|\n"
          ]
        },
        {
          "output_type": "display_data",
          "data": {
            "text/plain": [
              "<Figure size 576x396 with 2 Axes>"
            ],
            "image/png": "[encoded data removed]"
          },
          "metadata": {}
        }
      ]
    }
  ]
}